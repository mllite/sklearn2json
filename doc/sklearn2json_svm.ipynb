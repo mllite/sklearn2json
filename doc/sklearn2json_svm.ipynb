{
 "cells": [
  {
   "cell_type": "code",
   "execution_count": 14,
   "id": "3c10720d",
   "metadata": {},
   "outputs": [],
   "source": [
    "\n",
    "\n",
    "from sklearn.datasets import load_iris\n",
    "from sklearn.svm import SVC\n",
    " \n",
    "clf = SVC(random_state=1789, probability=True)\n",
    "iris = load_iris()\n"
   ]
  },
  {
   "cell_type": "code",
   "execution_count": 15,
   "id": "8e0cdfcd",
   "metadata": {},
   "outputs": [
    {
     "name": "stdout",
     "output_type": "stream",
     "text": [
      "SET_SEED 1789\n",
      "SET_SEED 1789\n",
      "SET_SEED 1789\n",
      "SET_SEED 1789\n",
      "SET_SEED 1789\n",
      "SET_SEED 1789\n",
      "SET_SEED 1789\n",
      "SET_SEED 1789\n",
      "SET_SEED 1789\n",
      "SET_SEED 1789\n",
      "SET_SEED 1789\n",
      "SET_SEED 1789\n",
      "SET_SEED 1789\n",
      "SET_SEED 1789\n",
      "SET_SEED 1789\n",
      "SET_SEED 1789\n"
     ]
    },
    {
     "data": {
      "text/html": [
       "<style>#sk-container-id-2 {--sklearn-color-text: black;--sklearn-color-line: gray;--sklearn-color-background: white;--sklearn-color-background-box: #f0f8ff;--sklearn-color-border-box: black;--sklearn-color-icon: #696969;--sklearn-color-active: #d4ebff;--sklearn-color-highlight: #d4ebff;@media (prefers-color-scheme: dark) {--sklearn-color-text: white;--sklearn-color-line: gray;--sklearn-color-background: #111;--sklearn-color-background-box: #424242;--sklearn-color-border-box: white;--sklearn-color-icon: #878787;--sklearn-color-active: #616161;--sklearn-color-highlight: #616161;}}#sk-container-id-2 {color: var(--sklearn-color-text);}#sk-container-id-2 pre{padding: 0;}#sk-container-id-2 div.sk-toggleable {background-color: var(--sklearn-color-background);}#sk-container-id-2 label.sk-toggleable__label {cursor: pointer;display: block;width: 100%;margin-bottom: 0;padding: 0.3em;box-sizing: border-box;text-align: center;}#sk-container-id-2 label.sk-toggleable__label-arrow:before {content: \"▸\";float: left;margin-right: 0.25em;color: var(--sklearn-color-icon);}#sk-container-id-2 label.sk-toggleable__label-arrow:hover:before {color: var(--sklearn-color-text);}#sk-container-id-2 div.sk-estimator:hover label.sk-toggleable__label-arrow:before {color: var(--sklearn-color-text);}#sk-container-id-2 div.sk-toggleable__content {max-height: 0;max-width: 0;overflow: hidden;text-align: left;background-color: var(--sklearn-color-background-box);}#sk-container-id-2 div.sk-toggleable__content pre {margin: 0.2em;color: var(--sklearn-color-text);border-radius: 0.25em;background-color: var(--sklearn-color-background-box);}#sk-container-id-2 input.sk-toggleable__control:checked~div.sk-toggleable__content {max-height: 200px;max-width: 100%;overflow: auto;}#sk-container-id-2 input.sk-toggleable__control:checked~label.sk-toggleable__label-arrow:before {content: \"▾\";}#sk-container-id-2 div.sk-estimator input.sk-toggleable__control:checked~label.sk-toggleable__label {background-color: var(--sklearn-color-active);}#sk-container-id-2 div.sk-label input.sk-toggleable__control:checked~label.sk-toggleable__label {background-color: var(--sklearn-color-active);}#sk-container-id-2 input.sk-hidden--visually {border: 0;clip: rect(1px 1px 1px 1px);clip: rect(1px, 1px, 1px, 1px);height: 1px;margin: -1px;overflow: hidden;padding: 0;position: absolute;width: 1px;}#sk-container-id-2 div.sk-estimator {font-family: monospace;background-color: var(--sklearn-color-background-box);border: 1px dotted var(--sklearn-color-border-box);border-radius: 0.25em;box-sizing: border-box;margin-bottom: 0.5em;}#sk-container-id-2 div.sk-estimator:hover {background-color: var(--sklearn-color-highlight);}#sk-container-id-2 div.sk-parallel-item::after {content: \"\";width: 100%;border-bottom: 1px solid var(--sklearn-color-line);flex-grow: 1;}#sk-container-id-2 div.sk-label:hover label.sk-toggleable__label {background-color: var(--sklearn-color-highlight);}#sk-container-id-2 div.sk-serial::before {content: \"\";position: absolute;border-left: 1px solid var(--sklearn-color-line);box-sizing: border-box;top: 0;bottom: 0;left: 50%;z-index: 0;}#sk-container-id-2 div.sk-serial {display: flex;flex-direction: column;align-items: center;background-color: var(--sklearn-color-background);padding-right: 0.2em;padding-left: 0.2em;position: relative;}#sk-container-id-2 div.sk-item {position: relative;z-index: 1;}#sk-container-id-2 div.sk-parallel {display: flex;align-items: stretch;justify-content: center;background-color: var(--sklearn-color-background);position: relative;}#sk-container-id-2 div.sk-item::before, #sk-container-id-2 div.sk-parallel-item::before {content: \"\";position: absolute;border-left: 1px solid var(--sklearn-color-line);box-sizing: border-box;top: 0;bottom: 0;left: 50%;z-index: -1;}#sk-container-id-2 div.sk-parallel-item {display: flex;flex-direction: column;z-index: 1;position: relative;background-color: var(--sklearn-color-background);}#sk-container-id-2 div.sk-parallel-item:first-child::after {align-self: flex-end;width: 50%;}#sk-container-id-2 div.sk-parallel-item:last-child::after {align-self: flex-start;width: 50%;}#sk-container-id-2 div.sk-parallel-item:only-child::after {width: 0;}#sk-container-id-2 div.sk-dashed-wrapped {border: 1px dashed var(--sklearn-color-line);margin: 0 0.4em 0.5em 0.4em;box-sizing: border-box;padding-bottom: 0.4em;background-color: var(--sklearn-color-background);}#sk-container-id-2 div.sk-label label {font-family: monospace;font-weight: bold;display: inline-block;line-height: 1.2em;}#sk-container-id-2 div.sk-label-container {text-align: center;}#sk-container-id-2 div.sk-container {/* jupyter's `normalize.less` sets `[hidden] { display: none; }` but bootstrap.min.css set `[hidden] { display: none !important; }` so we also need the `!important` here to be able to override the default hidden behavior on the sphinx rendered scikit-learn.org. See: https://github.com/scikit-learn/scikit-learn/issues/21755 */display: inline-block !important;position: relative;}#sk-container-id-2 div.sk-text-repr-fallback {display: none;}</style><div id=\"sk-container-id-2\" class=\"sk-top-container\"><div class=\"sk-text-repr-fallback\"><pre>SVC(probability=True, random_state=1789)</pre><b>In a Jupyter environment, please rerun this cell to show the HTML representation or trust the notebook. <br />On GitHub, the HTML representation is unable to render, please try loading this page with nbviewer.org.</b></div><div class=\"sk-container\" hidden><div class=\"sk-item\"><div class=\"sk-estimator sk-toggleable\"><input class=\"sk-toggleable__control sk-hidden--visually\" id=\"sk-estimator-id-2\" type=\"checkbox\" checked><label for=\"sk-estimator-id-2\" class=\"sk-toggleable__label sk-toggleable__label-arrow\">SVC</label><div class=\"sk-toggleable__content\"><pre>SVC(probability=True, random_state=1789)</pre></div></div></div></div></div>"
      ],
      "text/plain": [
       "SVC(probability=True, random_state=1789)"
      ]
     },
     "execution_count": 15,
     "metadata": {},
     "output_type": "execute_result"
    }
   ],
   "source": [
    "clf.fit(iris.data, iris.target)"
   ]
  },
  {
   "cell_type": "code",
   "execution_count": 16,
   "id": "98c868f1",
   "metadata": {},
   "outputs": [],
   "source": [
    "d1 = clf.__dict__"
   ]
  },
  {
   "cell_type": "code",
   "execution_count": 17,
   "id": "e0d32a36",
   "metadata": {},
   "outputs": [
    {
     "data": {
      "text/plain": [
       "dict_keys(['decision_function_shape', 'break_ties', 'kernel', 'degree', 'gamma', 'coef0', 'tol', 'C', 'nu', 'epsilon', 'shrinking', 'probability', 'cache_size', 'class_weight', 'verbose', 'max_iter', 'random_state', '_sparse', 'n_features_in_', 'class_weight_', 'classes_', '_gamma', 'support_', 'support_vectors_', '_n_support', 'dual_coef_', 'intercept_', '_probA', '_probB', 'fit_status_', '_num_iter', 'shape_fit_', '_intercept_', '_dual_coef_', 'n_iter_'])"
      ]
     },
     "execution_count": 17,
     "metadata": {},
     "output_type": "execute_result"
    }
   ],
   "source": [
    "d1.keys()"
   ]
  },
  {
   "cell_type": "code",
   "execution_count": 18,
   "id": "f64b57fd",
   "metadata": {
    "scrolled": false
   },
   "outputs": [
    {
     "data": {
      "text/plain": [
       "{'decision_function_shape': 'ovr',\n",
       " 'break_ties': False,\n",
       " 'kernel': 'rbf',\n",
       " 'degree': 3,\n",
       " 'gamma': 'scale',\n",
       " 'coef0': 0.0,\n",
       " 'tol': 0.001,\n",
       " 'C': 1.0,\n",
       " 'nu': 0.0,\n",
       " 'epsilon': 0.0,\n",
       " 'shrinking': True,\n",
       " 'probability': True,\n",
       " 'cache_size': 200,\n",
       " 'class_weight': None,\n",
       " 'verbose': False,\n",
       " 'max_iter': -1,\n",
       " 'random_state': 1789,\n",
       " '_sparse': False,\n",
       " 'n_features_in_': 4,\n",
       " 'class_weight_': array([1., 1., 1.]),\n",
       " 'classes_': array([0, 1, 2]),\n",
       " '_gamma': 0.06416744863614975,\n",
       " 'support_': array([ 18,  20,  23,  24,  25,  41,  44,  50,  51,  52,  54,  55,  56,\n",
       "         57,  58,  63,  64,  66,  68,  70,  72,  73,  75,  76,  77,  78,\n",
       "         79,  83,  84,  85,  86,  87,  90,  91,  93,  98, 101, 106, 110,\n",
       "        111, 113, 116, 119, 121, 123, 126, 127, 129, 131, 133, 134, 137,\n",
       "        138, 139, 141, 142, 145, 146, 147, 149], dtype=int32),\n",
       " 'support_vectors_': array([[5.7, 3.8, 1.7, 0.3],\n",
       "        [5.4, 3.4, 1.7, 0.2],\n",
       "        [5.1, 3.3, 1.7, 0.5],\n",
       "        [4.8, 3.4, 1.9, 0.2],\n",
       "        [5. , 3. , 1.6, 0.2],\n",
       "        [4.5, 2.3, 1.3, 0.3],\n",
       "        [5.1, 3.8, 1.9, 0.4],\n",
       "        [7. , 3.2, 4.7, 1.4],\n",
       "        [6.4, 3.2, 4.5, 1.5],\n",
       "        [6.9, 3.1, 4.9, 1.5],\n",
       "        [6.5, 2.8, 4.6, 1.5],\n",
       "        [5.7, 2.8, 4.5, 1.3],\n",
       "        [6.3, 3.3, 4.7, 1.6],\n",
       "        [4.9, 2.4, 3.3, 1. ],\n",
       "        [6.6, 2.9, 4.6, 1.3],\n",
       "        [6.1, 2.9, 4.7, 1.4],\n",
       "        [5.6, 2.9, 3.6, 1.3],\n",
       "        [5.6, 3. , 4.5, 1.5],\n",
       "        [6.2, 2.2, 4.5, 1.5],\n",
       "        [5.9, 3.2, 4.8, 1.8],\n",
       "        [6.3, 2.5, 4.9, 1.5],\n",
       "        [6.1, 2.8, 4.7, 1.2],\n",
       "        [6.6, 3. , 4.4, 1.4],\n",
       "        [6.8, 2.8, 4.8, 1.4],\n",
       "        [6.7, 3. , 5. , 1.7],\n",
       "        [6. , 2.9, 4.5, 1.5],\n",
       "        [5.7, 2.6, 3.5, 1. ],\n",
       "        [6. , 2.7, 5.1, 1.6],\n",
       "        [5.4, 3. , 4.5, 1.5],\n",
       "        [6. , 3.4, 4.5, 1.6],\n",
       "        [6.7, 3.1, 4.7, 1.5],\n",
       "        [6.3, 2.3, 4.4, 1.3],\n",
       "        [5.5, 2.6, 4.4, 1.2],\n",
       "        [6.1, 3. , 4.6, 1.4],\n",
       "        [5. , 2.3, 3.3, 1. ],\n",
       "        [5.1, 2.5, 3. , 1.1],\n",
       "        [5.8, 2.7, 5.1, 1.9],\n",
       "        [4.9, 2.5, 4.5, 1.7],\n",
       "        [6.5, 3.2, 5.1, 2. ],\n",
       "        [6.4, 2.7, 5.3, 1.9],\n",
       "        [5.7, 2.5, 5. , 2. ],\n",
       "        [6.5, 3. , 5.5, 1.8],\n",
       "        [6. , 2.2, 5. , 1.5],\n",
       "        [5.6, 2.8, 4.9, 2. ],\n",
       "        [6.3, 2.7, 4.9, 1.8],\n",
       "        [6.2, 2.8, 4.8, 1.8],\n",
       "        [6.1, 3. , 4.9, 1.8],\n",
       "        [7.2, 3. , 5.8, 1.6],\n",
       "        [7.9, 3.8, 6.4, 2. ],\n",
       "        [6.3, 2.8, 5.1, 1.5],\n",
       "        [6.1, 2.6, 5.6, 1.4],\n",
       "        [6.4, 3.1, 5.5, 1.8],\n",
       "        [6. , 3. , 4.8, 1.8],\n",
       "        [6.9, 3.1, 5.4, 2.1],\n",
       "        [6.9, 3.1, 5.1, 2.3],\n",
       "        [5.8, 2.7, 5.1, 1.9],\n",
       "        [6.7, 3. , 5.2, 2.3],\n",
       "        [6.3, 2.5, 5. , 1.9],\n",
       "        [6.5, 3. , 5.2, 2. ],\n",
       "        [5.9, 3. , 5.1, 1.8]]),\n",
       " '_n_support': array([ 7, 29, 24], dtype=int32),\n",
       " 'dual_coef_': array([[ 0.        ,  0.31692917,  1.        ,  1.        ,  0.07471753,\n",
       "          1.        ,  1.        , -0.        , -0.        , -0.        ,\n",
       "         -0.        , -0.        , -0.        , -1.        , -0.        ,\n",
       "         -0.        , -0.3916467 , -0.        , -0.        , -0.        ,\n",
       "         -0.        , -0.        , -0.        , -0.        , -0.        ,\n",
       "         -0.        , -1.        , -0.        , -0.        , -0.        ,\n",
       "         -0.        , -0.        , -0.        , -0.        , -1.        ,\n",
       "         -1.        , -0.        , -1.        , -0.        , -0.        ,\n",
       "         -0.        , -0.        , -0.        , -0.        , -0.        ,\n",
       "         -0.        , -0.        , -0.        , -0.34479071, -0.        ,\n",
       "         -0.        , -0.        , -0.67930355, -0.        , -0.        ,\n",
       "         -0.        , -0.        , -0.        , -0.        , -0.        ],\n",
       "        [ 0.26810803,  0.        ,  0.02114527,  0.26526426,  0.        ,\n",
       "          0.46957669,  1.        ,  1.        ,  1.        ,  1.        ,\n",
       "          1.        ,  1.        ,  1.        ,  0.        ,  1.        ,\n",
       "          1.        ,  0.        ,  1.        ,  1.        ,  1.        ,\n",
       "          1.        ,  1.        ,  0.29353551,  1.        ,  1.        ,\n",
       "          1.        ,  0.        ,  1.        ,  1.        ,  1.        ,\n",
       "          1.        ,  1.        ,  0.70646449,  1.        ,  0.        ,\n",
       "          0.        , -1.        , -1.        , -1.        , -1.        ,\n",
       "         -1.        , -1.        , -1.        , -1.        , -1.        ,\n",
       "         -1.        , -1.        , -1.        , -0.        , -1.        ,\n",
       "         -1.        , -1.        , -1.        , -1.        , -1.        ,\n",
       "         -1.        , -1.        , -1.        , -1.        , -1.        ]]),\n",
       " 'intercept_': array([ 0.12631695, -0.06446388, -0.10704315]),\n",
       " '_probA': array([-3.33908739, -3.57749168, -3.92614388]),\n",
       " '_probB': array([-0.04023553, -0.02697794,  0.15822848]),\n",
       " 'fit_status_': 0,\n",
       " '_num_iter': array([ 8, 17, 37], dtype=int32),\n",
       " 'shape_fit_': (150, 4),\n",
       " '_intercept_': array([ 0.12631695, -0.06446388, -0.10704315]),\n",
       " '_dual_coef_': array([[ 0.        ,  0.31692917,  1.        ,  1.        ,  0.07471753,\n",
       "          1.        ,  1.        , -0.        , -0.        , -0.        ,\n",
       "         -0.        , -0.        , -0.        , -1.        , -0.        ,\n",
       "         -0.        , -0.3916467 , -0.        , -0.        , -0.        ,\n",
       "         -0.        , -0.        , -0.        , -0.        , -0.        ,\n",
       "         -0.        , -1.        , -0.        , -0.        , -0.        ,\n",
       "         -0.        , -0.        , -0.        , -0.        , -1.        ,\n",
       "         -1.        , -0.        , -1.        , -0.        , -0.        ,\n",
       "         -0.        , -0.        , -0.        , -0.        , -0.        ,\n",
       "         -0.        , -0.        , -0.        , -0.34479071, -0.        ,\n",
       "         -0.        , -0.        , -0.67930355, -0.        , -0.        ,\n",
       "         -0.        , -0.        , -0.        , -0.        , -0.        ],\n",
       "        [ 0.26810803,  0.        ,  0.02114527,  0.26526426,  0.        ,\n",
       "          0.46957669,  1.        ,  1.        ,  1.        ,  1.        ,\n",
       "          1.        ,  1.        ,  1.        ,  0.        ,  1.        ,\n",
       "          1.        ,  0.        ,  1.        ,  1.        ,  1.        ,\n",
       "          1.        ,  1.        ,  0.29353551,  1.        ,  1.        ,\n",
       "          1.        ,  0.        ,  1.        ,  1.        ,  1.        ,\n",
       "          1.        ,  1.        ,  0.70646449,  1.        ,  0.        ,\n",
       "          0.        , -1.        , -1.        , -1.        , -1.        ,\n",
       "         -1.        , -1.        , -1.        , -1.        , -1.        ,\n",
       "         -1.        , -1.        , -1.        , -0.        , -1.        ,\n",
       "         -1.        , -1.        , -1.        , -1.        , -1.        ,\n",
       "         -1.        , -1.        , -1.        , -1.        , -1.        ]]),\n",
       " 'n_iter_': array([ 8, 17, 37], dtype=int32)}"
      ]
     },
     "execution_count": 18,
     "metadata": {},
     "output_type": "execute_result"
    }
   ],
   "source": [
    "d1"
   ]
  },
  {
   "cell_type": "code",
   "execution_count": 19,
   "id": "17334e06",
   "metadata": {},
   "outputs": [
    {
     "data": {
      "text/plain": [
       "[0, 1, 2]"
      ]
     },
     "execution_count": 19,
     "metadata": {},
     "output_type": "execute_result"
    }
   ],
   "source": [
    "list(d1[\"classes_\"])"
   ]
  },
  {
   "cell_type": "code",
   "execution_count": 20,
   "id": "8d6d668a",
   "metadata": {},
   "outputs": [
    {
     "data": {
      "text/plain": [
       "sklearn.svm._classes.SVC"
      ]
     },
     "execution_count": 20,
     "metadata": {},
     "output_type": "execute_result"
    }
   ],
   "source": [
    "clf.__class__"
   ]
  },
  {
   "cell_type": "code",
   "execution_count": 9,
   "id": "ef726e3a",
   "metadata": {},
   "outputs": [
    {
     "data": {
      "text/plain": [
       "array([0, 1, 2])"
      ]
     },
     "execution_count": 9,
     "metadata": {},
     "output_type": "execute_result"
    }
   ],
   "source": [
    "clf._label_binarizer.classes_"
   ]
  },
  {
   "cell_type": "code",
   "execution_count": 15,
   "id": "5b83b814",
   "metadata": {},
   "outputs": [
    {
     "data": {
      "text/plain": [
       "dtype('float64')"
      ]
     },
     "execution_count": 15,
     "metadata": {},
     "output_type": "execute_result"
    }
   ],
   "source": [
    "clf.intercept_.dtype"
   ]
  },
  {
   "cell_type": "code",
   "execution_count": 9,
   "id": "d1aa0d52",
   "metadata": {},
   "outputs": [
    {
     "data": {
      "text/plain": [
       "[0, 1, 2]"
      ]
     },
     "execution_count": 9,
     "metadata": {},
     "output_type": "execute_result"
    }
   ],
   "source": [
    "list(clf.classes_)"
   ]
  },
  {
   "cell_type": "code",
   "execution_count": 10,
   "id": "8dc64c61",
   "metadata": {},
   "outputs": [
    {
     "data": {
      "text/plain": [
       "60"
      ]
     },
     "execution_count": 10,
     "metadata": {},
     "output_type": "execute_result"
    }
   ],
   "source": [
    " clf.support_vectors_.shape[0]"
   ]
  },
  {
   "cell_type": "code",
   "execution_count": 12,
   "id": "d59bcb40",
   "metadata": {},
   "outputs": [
    {
     "data": {
      "text/plain": [
       "array([ 0.12631695, -0.06446388, -0.10704315])"
      ]
     },
     "execution_count": 12,
     "metadata": {},
     "output_type": "execute_result"
    }
   ],
   "source": [
    "clf.intercept_"
   ]
  },
  {
   "cell_type": "code",
   "execution_count": 13,
   "id": "6d00e7c6",
   "metadata": {},
   "outputs": [
    {
     "data": {
      "text/plain": [
       "(2, 60)"
      ]
     },
     "execution_count": 13,
     "metadata": {},
     "output_type": "execute_result"
    }
   ],
   "source": [
    "clf.dual_coef_.shape"
   ]
  },
  {
   "cell_type": "code",
   "execution_count": null,
   "id": "6b21bfc0",
   "metadata": {},
   "outputs": [],
   "source": [
    "clf.s"
   ]
  }
 ],
 "metadata": {
  "kernelspec": {
   "display_name": "Python 3",
   "language": "python",
   "name": "python3"
  },
  "language_info": {
   "codemirror_mode": {
    "name": "ipython",
    "version": 3
   },
   "file_extension": ".py",
   "mimetype": "text/x-python",
   "name": "python",
   "nbconvert_exporter": "python",
   "pygments_lexer": "ipython3",
   "version": "3.11.5"
  }
 },
 "nbformat": 4,
 "nbformat_minor": 5
}
